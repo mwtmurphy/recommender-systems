{
 "cells": [
  {
   "cell_type": "markdown",
   "metadata": {},
   "source": [
    "# Env setup"
   ]
  },
  {
   "cell_type": "code",
   "execution_count": 8,
   "metadata": {},
   "outputs": [],
   "source": [
    "import datetime as dt\n",
    "from datetime import date\n",
    "import random\n",
    "\n",
    "from mlxtend import frequent_patterns\n",
    "import pandas as pd\n"
   ]
  },
  {
   "cell_type": "markdown",
   "metadata": {},
   "source": [
    "# Requirements\n",
    "\n",
    "1. Implicit or explicit ratings.\n",
    "    - Rating created date required for applying rating time decay."
   ]
  },
  {
   "cell_type": "code",
   "execution_count": 9,
   "metadata": {},
   "outputs": [],
   "source": [
    "today = date.today()\n",
    "ratings = [{\n",
    "    \"user_id\": random.randint(1, 100), \n",
    "    \"item_id\": random.randint(2, 200), \n",
    "    \"rating\": random.random() * 10, \n",
    "    \"created_date\": today - dt.timedelta(days=random.randint(0, 200))\n",
    "} for _ in range(1000)]\n",
    "\n",
    "ratings_df = pd.DataFrame(ratings)\n",
    "ratings_df = ratings_df.loc[ratings_df[[\"user_id\", \"item_id\"]].drop_duplicates().index]"
   ]
  },
  {
   "cell_type": "markdown",
   "metadata": {},
   "source": [
    "# Static non-personalised recommenders"
   ]
  },
  {
   "cell_type": "markdown",
   "metadata": {},
   "source": [
    "## Top 10"
   ]
  },
  {
   "cell_type": "markdown",
   "metadata": {},
   "source": [
    "### All-time"
   ]
  },
  {
   "cell_type": "code",
   "execution_count": 11,
   "metadata": {},
   "outputs": [
    {
     "data": {
      "text/html": [
       "<div>\n",
       "<style scoped>\n",
       "    .dataframe tbody tr th:only-of-type {\n",
       "        vertical-align: middle;\n",
       "    }\n",
       "\n",
       "    .dataframe tbody tr th {\n",
       "        vertical-align: top;\n",
       "    }\n",
       "\n",
       "    .dataframe thead th {\n",
       "        text-align: right;\n",
       "    }\n",
       "</style>\n",
       "<table border=\"1\" class=\"dataframe\">\n",
       "  <thead>\n",
       "    <tr style=\"text-align: right;\">\n",
       "      <th></th>\n",
       "      <th>item_id</th>\n",
       "      <th>rating</th>\n",
       "    </tr>\n",
       "  </thead>\n",
       "  <tbody>\n",
       "    <tr>\n",
       "      <th>0</th>\n",
       "      <td>51</td>\n",
       "      <td>8.823776</td>\n",
       "    </tr>\n",
       "    <tr>\n",
       "      <th>1</th>\n",
       "      <td>64</td>\n",
       "      <td>8.540408</td>\n",
       "    </tr>\n",
       "    <tr>\n",
       "      <th>2</th>\n",
       "      <td>86</td>\n",
       "      <td>8.511595</td>\n",
       "    </tr>\n",
       "    <tr>\n",
       "      <th>3</th>\n",
       "      <td>119</td>\n",
       "      <td>8.363824</td>\n",
       "    </tr>\n",
       "    <tr>\n",
       "      <th>4</th>\n",
       "      <td>156</td>\n",
       "      <td>8.053570</td>\n",
       "    </tr>\n",
       "    <tr>\n",
       "      <th>5</th>\n",
       "      <td>90</td>\n",
       "      <td>7.612117</td>\n",
       "    </tr>\n",
       "    <tr>\n",
       "      <th>6</th>\n",
       "      <td>48</td>\n",
       "      <td>7.562261</td>\n",
       "    </tr>\n",
       "    <tr>\n",
       "      <th>7</th>\n",
       "      <td>106</td>\n",
       "      <td>7.341274</td>\n",
       "    </tr>\n",
       "    <tr>\n",
       "      <th>8</th>\n",
       "      <td>191</td>\n",
       "      <td>7.266507</td>\n",
       "    </tr>\n",
       "    <tr>\n",
       "      <th>9</th>\n",
       "      <td>137</td>\n",
       "      <td>7.204925</td>\n",
       "    </tr>\n",
       "  </tbody>\n",
       "</table>\n",
       "</div>"
      ],
      "text/plain": [
       "   item_id    rating\n",
       "0       51  8.823776\n",
       "1       64  8.540408\n",
       "2       86  8.511595\n",
       "3      119  8.363824\n",
       "4      156  8.053570\n",
       "5       90  7.612117\n",
       "6       48  7.562261\n",
       "7      106  7.341274\n",
       "8      191  7.266507\n",
       "9      137  7.204925"
      ]
     },
     "execution_count": 11,
     "metadata": {},
     "output_type": "execute_result"
    }
   ],
   "source": [
    "ratings_df.groupby(\"item_id\")[\"rating\"].mean().sort_values(ascending=False).reset_index().head(10)"
   ]
  },
  {
   "cell_type": "markdown",
   "metadata": {},
   "source": [
    "### Time-weighted\n",
    "\n",
    "Applying decay functions can add a recency effect to a top 10 creation. Note, decay functions can take multiple forms (linear, eAponential, etc.)."
   ]
  },
  {
   "cell_type": "code",
   "execution_count": 13,
   "metadata": {},
   "outputs": [
    {
     "data": {
      "text/html": [
       "<div>\n",
       "<style scoped>\n",
       "    .dataframe tbody tr th:only-of-type {\n",
       "        vertical-align: middle;\n",
       "    }\n",
       "\n",
       "    .dataframe tbody tr th {\n",
       "        vertical-align: top;\n",
       "    }\n",
       "\n",
       "    .dataframe thead th {\n",
       "        text-align: right;\n",
       "    }\n",
       "</style>\n",
       "<table border=\"1\" class=\"dataframe\">\n",
       "  <thead>\n",
       "    <tr style=\"text-align: right;\">\n",
       "      <th></th>\n",
       "      <th>item_id</th>\n",
       "      <th>weighted_rating</th>\n",
       "    </tr>\n",
       "  </thead>\n",
       "  <tbody>\n",
       "    <tr>\n",
       "      <th>0</th>\n",
       "      <td>7</td>\n",
       "      <td>1.216613</td>\n",
       "    </tr>\n",
       "    <tr>\n",
       "      <th>1</th>\n",
       "      <td>186</td>\n",
       "      <td>1.170810</td>\n",
       "    </tr>\n",
       "    <tr>\n",
       "      <th>2</th>\n",
       "      <td>147</td>\n",
       "      <td>0.844251</td>\n",
       "    </tr>\n",
       "    <tr>\n",
       "      <th>3</th>\n",
       "      <td>121</td>\n",
       "      <td>0.765872</td>\n",
       "    </tr>\n",
       "    <tr>\n",
       "      <th>4</th>\n",
       "      <td>178</td>\n",
       "      <td>0.689128</td>\n",
       "    </tr>\n",
       "    <tr>\n",
       "      <th>5</th>\n",
       "      <td>192</td>\n",
       "      <td>0.539768</td>\n",
       "    </tr>\n",
       "    <tr>\n",
       "      <th>6</th>\n",
       "      <td>21</td>\n",
       "      <td>0.469681</td>\n",
       "    </tr>\n",
       "    <tr>\n",
       "      <th>7</th>\n",
       "      <td>148</td>\n",
       "      <td>0.451014</td>\n",
       "    </tr>\n",
       "    <tr>\n",
       "      <th>8</th>\n",
       "      <td>67</td>\n",
       "      <td>0.439227</td>\n",
       "    </tr>\n",
       "    <tr>\n",
       "      <th>9</th>\n",
       "      <td>36</td>\n",
       "      <td>0.437203</td>\n",
       "    </tr>\n",
       "  </tbody>\n",
       "</table>\n",
       "</div>"
      ],
      "text/plain": [
       "   item_id  weighted_rating\n",
       "0        7         1.216613\n",
       "1      186         1.170810\n",
       "2      147         0.844251\n",
       "3      121         0.765872\n",
       "4      178         0.689128\n",
       "5      192         0.539768\n",
       "6       21         0.469681\n",
       "7      148         0.451014\n",
       "8       67         0.439227\n",
       "9       36         0.437203"
      ]
     },
     "execution_count": 13,
     "metadata": {},
     "output_type": "execute_result"
    }
   ],
   "source": [
    "ratings_df[\"days_since\"] = (today - ratings_df[\"created_date\"]).apply(lambda delta: delta.days)\n",
    "ratings_df[\"weighted_rating\"] = ratings_df[\"rating\"] / (1 + ratings_df[\"days_since\"])\n",
    "ratings_df.groupby(\"item_id\")[\"weighted_rating\"].mean().sort_values(ascending=False).reset_index().head(10)"
   ]
  },
  {
   "cell_type": "markdown",
   "metadata": {},
   "source": [
    "## Frequently bought together (FBT) recommendation \n",
    "\n",
    "Created using the [online retail dataset](https://archive.ics.uci.edu/dataset/352/online+retail) (last accessed 2023-10-14) from the UCI ML repository. Required be accessible locally as `data/online_retail.Alsx`.\n"
   ]
  },
  {
   "cell_type": "code",
   "execution_count": 14,
   "metadata": {},
   "outputs": [
    {
     "name": "stdout",
     "output_type": "stream",
     "text": [
      "<class 'pandas.core.frame.DataFrame'>\n",
      "RangeIndex: 541909 entries, 0 to 541908\n",
      "Data columns (total 5 columns):\n",
      " #   Column       Non-Null Count   Dtype         \n",
      "---  ------       --------------   -----         \n",
      " 0   invoice_id   541909 non-null  object        \n",
      " 1   stock_id     541909 non-null  object        \n",
      " 2   description  540455 non-null  object        \n",
      " 3   invoiced_at  541909 non-null  datetime64[ns]\n",
      " 4   customer_id  406829 non-null  float64       \n",
      "dtypes: datetime64[ns](1), float64(1), object(3)\n",
      "memory usage: 20.7+ MB\n"
     ]
    }
   ],
   "source": [
    "retail_df = pd.read_excel(\"../data/online_retail.xlsx\")\n",
    "retail_df = retail_df.rename(columns={\n",
    "    \"InvoiceNo\": \"invoice_id\",\n",
    "    \"StockCode\": \"stock_id\",\n",
    "    \"Description\": \"description\",\n",
    "    \"Quantity\": \"quantity\",\n",
    "    \"InvoiceDate\": \"invoiced_at\",\n",
    "    \"UnitPrice\": \"unit_price\",\n",
    "    \"CustomerID\": \"customer_id\",\n",
    "    \"Country\": \"country\"\n",
    "})\n",
    "retail_df = retail_df.drop(columns=[\"country\", \"quantity\", \"unit_price\"])\n",
    "retail_df[\"stock_id\"] = retail_df[\"stock_id\"].astype(str)\n",
    "retail_df.info()"
   ]
  },
  {
   "cell_type": "markdown",
   "metadata": {},
   "source": [
    "### Methods\n",
    "\n",
    "- [Apriori algorithm](https://analyticslog.com/blog/2020/8/13/apriori-algorithm-items-frequently-bought-together-a-basic-explanation-of-how-it-works) (last accessed 2023-10-01)\n",
    "- [FP-growth algorithm](https://hands-on.cloud/implementation-of-fp-growth-algorithm-using-python) (last accessed 2023-10-01)\n",
    "\n",
    "FP-growth improves upon Apriori by being faster and computational more efficient.\n",
    "\n",
    "FP-growth took 2.06 s ± 18.8 ms (mean ± std. dev.) to find all n-item itemsets for 7 runs across 25900 sales and 4070 items."
   ]
  },
  {
   "cell_type": "code",
   "execution_count": 15,
   "metadata": {},
   "outputs": [
    {
     "data": {
      "text/plain": [
       "(25900, 4070)"
      ]
     },
     "execution_count": 15,
     "metadata": {},
     "output_type": "execute_result"
    }
   ],
   "source": [
    "pvt_df = pd.crosstab(index=retail_df[\"invoice_id\"], columns=retail_df[\"stock_id\"]).map(bool)\n",
    "pvt_df.shape"
   ]
  },
  {
   "cell_type": "code",
   "execution_count": 16,
   "metadata": {},
   "outputs": [
    {
     "data": {
      "text/html": [
       "<div>\n",
       "<style scoped>\n",
       "    .dataframe tbody tr th:only-of-type {\n",
       "        vertical-align: middle;\n",
       "    }\n",
       "\n",
       "    .dataframe tbody tr th {\n",
       "        vertical-align: top;\n",
       "    }\n",
       "\n",
       "    .dataframe thead th {\n",
       "        text-align: right;\n",
       "    }\n",
       "</style>\n",
       "<table border=\"1\" class=\"dataframe\">\n",
       "  <thead>\n",
       "    <tr style=\"text-align: right;\">\n",
       "      <th></th>\n",
       "      <th>antecedents</th>\n",
       "      <th>consequents</th>\n",
       "      <th>antecedent support</th>\n",
       "      <th>consequent support</th>\n",
       "      <th>support</th>\n",
       "      <th>confidence</th>\n",
       "      <th>lift</th>\n",
       "      <th>leverage</th>\n",
       "      <th>conviction</th>\n",
       "      <th>zhangs_metric</th>\n",
       "    </tr>\n",
       "  </thead>\n",
       "  <tbody>\n",
       "    <tr>\n",
       "      <th>1092</th>\n",
       "      <td>(22699, 22698, 22423)</td>\n",
       "      <td>(22697)</td>\n",
       "      <td>0.013012</td>\n",
       "      <td>0.040811</td>\n",
       "      <td>0.011699</td>\n",
       "      <td>0.899110</td>\n",
       "      <td>22.031167</td>\n",
       "      <td>0.011168</td>\n",
       "      <td>9.507258</td>\n",
       "      <td>0.967194</td>\n",
       "    </tr>\n",
       "    <tr>\n",
       "      <th>1317</th>\n",
       "      <td>(23172)</td>\n",
       "      <td>(23171)</td>\n",
       "      <td>0.012124</td>\n",
       "      <td>0.014903</td>\n",
       "      <td>0.010888</td>\n",
       "      <td>0.898089</td>\n",
       "      <td>60.260387</td>\n",
       "      <td>0.010707</td>\n",
       "      <td>9.666260</td>\n",
       "      <td>0.995474</td>\n",
       "    </tr>\n",
       "    <tr>\n",
       "      <th>363</th>\n",
       "      <td>(21080, 21086)</td>\n",
       "      <td>(21094)</td>\n",
       "      <td>0.011429</td>\n",
       "      <td>0.020347</td>\n",
       "      <td>0.010232</td>\n",
       "      <td>0.895270</td>\n",
       "      <td>43.999051</td>\n",
       "      <td>0.009999</td>\n",
       "      <td>9.354101</td>\n",
       "      <td>0.988570</td>\n",
       "    </tr>\n",
       "    <tr>\n",
       "      <th>1105</th>\n",
       "      <td>(22699, 22698)</td>\n",
       "      <td>(22697)</td>\n",
       "      <td>0.023707</td>\n",
       "      <td>0.040811</td>\n",
       "      <td>0.021197</td>\n",
       "      <td>0.894137</td>\n",
       "      <td>21.909313</td>\n",
       "      <td>0.020229</td>\n",
       "      <td>9.060649</td>\n",
       "      <td>0.977531</td>\n",
       "    </tr>\n",
       "    <tr>\n",
       "      <th>1093</th>\n",
       "      <td>(22697, 22698, 22423)</td>\n",
       "      <td>(22699)</td>\n",
       "      <td>0.013359</td>\n",
       "      <td>0.043243</td>\n",
       "      <td>0.011699</td>\n",
       "      <td>0.875723</td>\n",
       "      <td>20.251084</td>\n",
       "      <td>0.011121</td>\n",
       "      <td>7.698554</td>\n",
       "      <td>0.963491</td>\n",
       "    </tr>\n",
       "  </tbody>\n",
       "</table>\n",
       "</div>"
      ],
      "text/plain": [
       "                antecedents consequents  antecedent support  \\\n",
       "1092  (22699, 22698, 22423)     (22697)            0.013012   \n",
       "1317                (23172)     (23171)            0.012124   \n",
       "363          (21080, 21086)     (21094)            0.011429   \n",
       "1105         (22699, 22698)     (22697)            0.023707   \n",
       "1093  (22697, 22698, 22423)     (22699)            0.013359   \n",
       "\n",
       "      consequent support   support  confidence       lift  leverage  \\\n",
       "1092            0.040811  0.011699    0.899110  22.031167  0.011168   \n",
       "1317            0.014903  0.010888    0.898089  60.260387  0.010707   \n",
       "363             0.020347  0.010232    0.895270  43.999051  0.009999   \n",
       "1105            0.040811  0.021197    0.894137  21.909313  0.020229   \n",
       "1093            0.043243  0.011699    0.875723  20.251084  0.011121   \n",
       "\n",
       "      conviction  zhangs_metric  \n",
       "1092    9.507258       0.967194  \n",
       "1317    9.666260       0.995474  \n",
       "363     9.354101       0.988570  \n",
       "1105    9.060649       0.977531  \n",
       "1093    7.698554       0.963491  "
      ]
     },
     "execution_count": 16,
     "metadata": {},
     "output_type": "execute_result"
    }
   ],
   "source": [
    "#%%timeit\n",
    "\n",
    "fg_result = frequent_patterns.fpgrowth(pvt_df, min_support=0.01, use_colnames=True)\n",
    "ar_result = frequent_patterns.association_rules(fg_result, metric=\"lift\", min_threshold=1)\n",
    "ar_result.sort_values(\"confidence\", ascending=False).head()"
   ]
  },
  {
   "cell_type": "markdown",
   "metadata": {},
   "source": [
    "| Term | Definition |\n",
    "| Antecendent (A) | First part of conditional proposal |\n",
    "| Consequent (C) | Second part of condition proposal |\n",
    "\n",
    "\n",
    "\n",
    "## Formula\n",
    "\n",
    "T(X) = Count of transactions itemset X has appeared in.\n",
    "\n",
    "$support(A \\rightarrow C) = support(A \\cup C) = \\frac{T(A \\cup C)}{T()}$ \n",
    "- P(A and C are bought together).\n",
    "\n",
    "$confidence(A \\rightarrow C) = \\frac{support(A \\rightarrow C)}{support(A)} = \\frac{T(A \\cup C)}{T(A)}$ \n",
    "- P(C is bought when A is bought).\n",
    "\n",
    "$lift(A \\rightarrow C) = \\frac{confidence(A \\rightarrow C)}{support(C)} = \\frac{support(A \\rightarrow C)}{support(A) \\cdot support(C)}$\n",
    "- P(A and C are bought together) / P(A and C are bought together assuming independence). Values close to, and under, 1 indicates independence.\n",
    "\n",
    "$leverage(A \\rightarrow C) = support(A \\rightarrow C) - support(A) \\cdot support(C)$ \n",
    "- P(A and C are bought together) - P(A and C are bought together assuming independence). Values close to, and under, 0 indicates independence.\n"
   ]
  },
  {
   "cell_type": "markdown",
   "metadata": {},
   "source": []
  }
 ],
 "metadata": {
  "kernelspec": {
   "display_name": "recommender-systems-4J3U9Nch-py3.10",
   "language": "python",
   "name": "python3"
  },
  "language_info": {
   "codemirror_mode": {
    "name": "ipython",
    "version": 3
   },
   "file_extension": ".py",
   "mimetype": "text/x-python",
   "name": "python",
   "nbconvert_exporter": "python",
   "pygments_lexer": "ipython3",
   "version": "3.10.12"
  },
  "orig_nbformat": 4
 },
 "nbformat": 4,
 "nbformat_minor": 2
}
