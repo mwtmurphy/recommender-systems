{
 "cells": [
  {
   "cell_type": "markdown",
   "metadata": {},
   "source": [
    "# Env setup"
   ]
  },
  {
   "cell_type": "code",
   "execution_count": 11,
   "metadata": {},
   "outputs": [],
   "source": [
    "import datetime as dt\n",
    "from datetime import date\n",
    "import itertools\n",
    "import math\n",
    "import random\n",
    "import typing\n",
    "\n",
    "import pandas as pd\n",
    "import tqdm\n"
   ]
  },
  {
   "cell_type": "markdown",
   "metadata": {},
   "source": [
    "# Requirements\n",
    "\n",
    "1. Implicit or explicit ratings.\n",
    "    - Rating created date required for applying rating time decay."
   ]
  },
  {
   "cell_type": "code",
   "execution_count": 27,
   "metadata": {},
   "outputs": [],
   "source": [
    "today = date.today()\n",
    "ratings = [{\n",
    "    \"user_id\": random.randint(1, 100), \n",
    "    \"item_id\": random.randint(2, 200), \n",
    "    \"rating\": random.random() * 20, \n",
    "    \"created_date\": today - dt.timedelta(days=random.randint(0, 200))\n",
    "} for _ in range(1000)]\n",
    "\n",
    "ratings_df = pd.DataFrame(ratings)\n",
    "ratings_df[\"days_since\"] = (today - ratings_df[\"created_date\"]).apply(lambda delta: delta.days)\n",
    "ratings_df = ratings_df.loc[ratings_df[[\"user_id\", \"item_id\"]].drop_duplicates().index]"
   ]
  },
  {
   "cell_type": "markdown",
   "metadata": {},
   "source": [
    "# Static non-personalised recommenders"
   ]
  },
  {
   "cell_type": "markdown",
   "metadata": {},
   "source": [
    "## Top 10"
   ]
  },
  {
   "cell_type": "markdown",
   "metadata": {},
   "source": [
    "### All-time"
   ]
  },
  {
   "cell_type": "code",
   "execution_count": 28,
   "metadata": {},
   "outputs": [
    {
     "data": {
      "text/html": [
       "<div>\n",
       "<style scoped>\n",
       "    .dataframe tbody tr th:only-of-type {\n",
       "        vertical-align: middle;\n",
       "    }\n",
       "\n",
       "    .dataframe tbody tr th {\n",
       "        vertical-align: top;\n",
       "    }\n",
       "\n",
       "    .dataframe thead th {\n",
       "        text-align: right;\n",
       "    }\n",
       "</style>\n",
       "<table border=\"1\" class=\"dataframe\">\n",
       "  <thead>\n",
       "    <tr style=\"text-align: right;\">\n",
       "      <th></th>\n",
       "      <th>item_id</th>\n",
       "      <th>rating</th>\n",
       "    </tr>\n",
       "  </thead>\n",
       "  <tbody>\n",
       "    <tr>\n",
       "      <th>0</th>\n",
       "      <td>65</td>\n",
       "      <td>19.173553</td>\n",
       "    </tr>\n",
       "    <tr>\n",
       "      <th>1</th>\n",
       "      <td>192</td>\n",
       "      <td>18.601053</td>\n",
       "    </tr>\n",
       "    <tr>\n",
       "      <th>2</th>\n",
       "      <td>79</td>\n",
       "      <td>17.444371</td>\n",
       "    </tr>\n",
       "    <tr>\n",
       "      <th>3</th>\n",
       "      <td>20</td>\n",
       "      <td>17.058592</td>\n",
       "    </tr>\n",
       "    <tr>\n",
       "      <th>4</th>\n",
       "      <td>7</td>\n",
       "      <td>16.785143</td>\n",
       "    </tr>\n",
       "    <tr>\n",
       "      <th>5</th>\n",
       "      <td>38</td>\n",
       "      <td>16.161971</td>\n",
       "    </tr>\n",
       "    <tr>\n",
       "      <th>6</th>\n",
       "      <td>115</td>\n",
       "      <td>15.957855</td>\n",
       "    </tr>\n",
       "    <tr>\n",
       "      <th>7</th>\n",
       "      <td>25</td>\n",
       "      <td>15.108986</td>\n",
       "    </tr>\n",
       "    <tr>\n",
       "      <th>8</th>\n",
       "      <td>2</td>\n",
       "      <td>15.029119</td>\n",
       "    </tr>\n",
       "    <tr>\n",
       "      <th>9</th>\n",
       "      <td>15</td>\n",
       "      <td>14.775617</td>\n",
       "    </tr>\n",
       "  </tbody>\n",
       "</table>\n",
       "</div>"
      ],
      "text/plain": [
       "   item_id     rating\n",
       "0       65  19.173553\n",
       "1      192  18.601053\n",
       "2       79  17.444371\n",
       "3       20  17.058592\n",
       "4        7  16.785143\n",
       "5       38  16.161971\n",
       "6      115  15.957855\n",
       "7       25  15.108986\n",
       "8        2  15.029119\n",
       "9       15  14.775617"
      ]
     },
     "execution_count": 28,
     "metadata": {},
     "output_type": "execute_result"
    }
   ],
   "source": [
    "ratings_df.groupby(\"item_id\")[\"rating\"].mean().sort_values(ascending=False).reset_index().head(10)"
   ]
  },
  {
   "cell_type": "markdown",
   "metadata": {},
   "source": [
    "### Time-weighted\n",
    "\n",
    "Applying decay functions can add a recency effect to a top 10 creation. Note, decay functions can take multiple forms (linear, exponential, etc.)."
   ]
  },
  {
   "cell_type": "code",
   "execution_count": 29,
   "metadata": {},
   "outputs": [
    {
     "data": {
      "text/html": [
       "<div>\n",
       "<style scoped>\n",
       "    .dataframe tbody tr th:only-of-type {\n",
       "        vertical-align: middle;\n",
       "    }\n",
       "\n",
       "    .dataframe tbody tr th {\n",
       "        vertical-align: top;\n",
       "    }\n",
       "\n",
       "    .dataframe thead th {\n",
       "        text-align: right;\n",
       "    }\n",
       "</style>\n",
       "<table border=\"1\" class=\"dataframe\">\n",
       "  <thead>\n",
       "    <tr style=\"text-align: right;\">\n",
       "      <th></th>\n",
       "      <th>item_id</th>\n",
       "      <th>weighted_rating</th>\n",
       "    </tr>\n",
       "  </thead>\n",
       "  <tbody>\n",
       "    <tr>\n",
       "      <th>0</th>\n",
       "      <td>176</td>\n",
       "      <td>3.879943</td>\n",
       "    </tr>\n",
       "    <tr>\n",
       "      <th>1</th>\n",
       "      <td>7</td>\n",
       "      <td>2.098143</td>\n",
       "    </tr>\n",
       "    <tr>\n",
       "      <th>2</th>\n",
       "      <td>10</td>\n",
       "      <td>1.755871</td>\n",
       "    </tr>\n",
       "    <tr>\n",
       "      <th>3</th>\n",
       "      <td>188</td>\n",
       "      <td>1.558530</td>\n",
       "    </tr>\n",
       "    <tr>\n",
       "      <th>4</th>\n",
       "      <td>50</td>\n",
       "      <td>1.356819</td>\n",
       "    </tr>\n",
       "    <tr>\n",
       "      <th>5</th>\n",
       "      <td>146</td>\n",
       "      <td>1.241260</td>\n",
       "    </tr>\n",
       "    <tr>\n",
       "      <th>6</th>\n",
       "      <td>155</td>\n",
       "      <td>1.234730</td>\n",
       "    </tr>\n",
       "    <tr>\n",
       "      <th>7</th>\n",
       "      <td>86</td>\n",
       "      <td>1.231082</td>\n",
       "    </tr>\n",
       "    <tr>\n",
       "      <th>8</th>\n",
       "      <td>179</td>\n",
       "      <td>1.192951</td>\n",
       "    </tr>\n",
       "    <tr>\n",
       "      <th>9</th>\n",
       "      <td>92</td>\n",
       "      <td>0.949165</td>\n",
       "    </tr>\n",
       "  </tbody>\n",
       "</table>\n",
       "</div>"
      ],
      "text/plain": [
       "   item_id  weighted_rating\n",
       "0      176         3.879943\n",
       "1        7         2.098143\n",
       "2       10         1.755871\n",
       "3      188         1.558530\n",
       "4       50         1.356819\n",
       "5      146         1.241260\n",
       "6      155         1.234730\n",
       "7       86         1.231082\n",
       "8      179         1.192951\n",
       "9       92         0.949165"
      ]
     },
     "execution_count": 29,
     "metadata": {},
     "output_type": "execute_result"
    }
   ],
   "source": [
    "ratings_df[\"weighted_rating\"] = ratings_df[\"rating\"] / (1 + ratings_df[\"days_since\"])\n",
    "ratings_df.groupby(\"item_id\")[\"weighted_rating\"].mean().sort_values(ascending=False).reset_index().head(10)"
   ]
  },
  {
   "cell_type": "markdown",
   "metadata": {},
   "source": [
    "## Frequently bought together (FBT) recommendation \n",
    "\n",
    "Create using the [online retail dataset](https://archive.ics.uci.edu/dataset/352/online+retail) from the UCI ML repository. Should be accessible as `data/online_retail.xlsx`.\n"
   ]
  },
  {
   "cell_type": "code",
   "execution_count": 2,
   "metadata": {},
   "outputs": [
    {
     "name": "stdout",
     "output_type": "stream",
     "text": [
      "<class 'pandas.core.frame.DataFrame'>\n",
      "RangeIndex: 541909 entries, 0 to 541908\n",
      "Data columns (total 8 columns):\n",
      " #   Column       Non-Null Count   Dtype         \n",
      "---  ------       --------------   -----         \n",
      " 0   InvoiceNo    541909 non-null  object        \n",
      " 1   StockCode    541909 non-null  object        \n",
      " 2   Description  540455 non-null  object        \n",
      " 3   Quantity     541909 non-null  int64         \n",
      " 4   InvoiceDate  541909 non-null  datetime64[ns]\n",
      " 5   UnitPrice    541909 non-null  float64       \n",
      " 6   CustomerID   406829 non-null  float64       \n",
      " 7   Country      541909 non-null  object        \n",
      "dtypes: datetime64[ns](1), float64(2), int64(1), object(4)\n",
      "memory usage: 33.1+ MB\n"
     ]
    }
   ],
   "source": [
    "retail_df = pd.read_excel(\"../data/online_retail.xlsx\")\n",
    "retail_df.info()"
   ]
  },
  {
   "cell_type": "code",
   "execution_count": 3,
   "metadata": {},
   "outputs": [],
   "source": [
    "# items bought together (ibt)\n",
    "retail_df[\"StockCode\"] = retail_df[\"StockCode\"].astype(str)\n",
    "ibt_df = retail_df.groupby([\"CustomerID\", \"InvoiceDate\", \"InvoiceNo\"])[\"StockCode\"].apply(list).reset_index()\n",
    "ibt_df.columns = [\"customer_id\", \"invoiced_at\", \"invoice_id\", \"stock_ids\"]"
   ]
  },
  {
   "cell_type": "code",
   "execution_count": 4,
   "metadata": {},
   "outputs": [],
   "source": [
    "# Association rule functions\n",
    "\n",
    "def get_confidence(itemset_1: typing.Union[str, list], item_2: str, df: pd.DataFrame) -> float:\n",
    "    '''Returns number of transactions where itemset appears / number \n",
    "    of transactions where item/itemset 1 appears.\n",
    "\n",
    "    Can be seen as the level of confidence that item 2 is purchased \n",
    "    with item/itemset 1 when item/itemset 1 appears.\n",
    "    \n",
    "    Arguments:\n",
    "        item_1: ID of item 1 or IDs of itemset 1.\n",
    "        item_2: ID of item 2.\n",
    "        df: Dataframe with columns `invoice_id` and `stock_ids` from \n",
    "            ibt_df.\n",
    "\n",
    "    Returns:\n",
    "        Confidence value.\n",
    "    '''\n",
    "\n",
    "    #item_1_set = set(df.loc[df[\"stock_ids\"].apply(lambda el: item_1 in el), \"invoice_id\"])\n",
    "\n",
    "    if isinstance(itemset_1, str):\n",
    "        itemset_1_appearances = set(df.loc[df[\"stock_ids\"].apply(lambda el: itemset_1 in el), \"invoice_id\"])\n",
    "    else:\n",
    "        itemset_1_appearances = set(df.loc[df[\"stock_ids\"].apply(lambda el: itemset_1[0] in el), \"invoice_id\"])\n",
    "        for item in itemset_1[1:]:\n",
    "            itemset_1_appearances = itemset_1_appearances & set(df.loc[df[\"stock_ids\"].apply(lambda el: item in el), \"invoice_id\"])\n",
    "\n",
    "    item_2_appearances = set(df.loc[df[\"stock_ids\"].apply(lambda el: item_2 in el), \"invoice_id\"])\n",
    "    confidence = len(itemset_1_appearances & item_2_appearances) / len(itemset_1_appearances)\n",
    "\n",
    "    return confidence\n",
    "\n",
    "def get_support(itemset_1: typing.Union[str, list], item_2: typing.Union[str, None], df: pd.DataFrame) -> float:\n",
    "    '''Returns number of transactions where itemset appears / number \n",
    "    of total transactions.\n",
    "    \n",
    "    Can be seen as the level of support that item 1 and 2 are bought\n",
    "    together frequently enough versus all transactions.\n",
    "    \n",
    "    Arguments:\n",
    "        itemset_1: ID of item 1 or IDs of itemset 1.\n",
    "        item_2: ID of item 2.\n",
    "        df: Dataframe with columns `invoice_id` and `stock_ids` from \n",
    "            ibt_df.\n",
    "            \n",
    "    Returns:\n",
    "        Support value.\n",
    "    '''\n",
    "\n",
    "    if isinstance(itemset_1, str):\n",
    "        itemset_1_appearances = set(df.loc[df[\"stock_ids\"].apply(lambda el: itemset_1 in el), \"invoice_id\"])\n",
    "    else:\n",
    "        itemset_1_appearances = set(df.loc[df[\"stock_ids\"].apply(lambda el: itemset_1[0] in el), \"invoice_id\"])\n",
    "        for item in itemset_1[1:]:\n",
    "            itemset_1_appearances = itemset_1_appearances & set(df.loc[df[\"stock_ids\"].apply(lambda el: item in el), \"invoice_id\"])\n",
    "\n",
    "    if isinstance(item_2, str):\n",
    "        item_2_appearances = set(df.loc[df[\"stock_ids\"].apply(lambda el: item_2 in el), \"invoice_id\"])\n",
    "        support = len(itemset_1_appearances & item_2_appearances) / ibt_df.shape[0]\n",
    "    else:\n",
    "        support = len(itemset_1_appearances) / ibt_df.shape[0]\n",
    "\n",
    "    return support"
   ]
  },
  {
   "cell_type": "code",
   "execution_count": 5,
   "metadata": {},
   "outputs": [
    {
     "name": "stdout",
     "output_type": "stream",
     "text": [
      "1.0\n"
     ]
    }
   ],
   "source": [
    "itemset_1 = (\"85123A\", \"22423\")\n",
    "item_2 = \"22423\"\n",
    "\n",
    "print(get_confidence(itemset_1, item_2, ibt_df))"
   ]
  },
  {
   "cell_type": "code",
   "execution_count": 12,
   "metadata": {},
   "outputs": [
    {
     "name": "stderr",
     "output_type": "stream",
     "text": [
      "100%|██████████| 4070/4070 [00:32<00:00, 125.66it/s]\n",
      "100%|██████████| 135981/135981 [36:35<00:00, 61.93it/s]\n"
     ]
    }
   ],
   "source": [
    "min_support = 0.01\n",
    "items = list(retail_df[\"StockCode\"].unique())\n",
    "itemsets_1 = []\n",
    "\n",
    "for stock_id in tqdm.tqdm(items, desc=\"get itemset 1\", total=len(items)):\n",
    "    support = get_support(stock_id, None, ibt_df)\n",
    "    if support > min_support:\n",
    "        itemsets_1.append(stock_id)\n",
    "\n",
    "stock_combinations = itertools.combinations(itemsets_1, 2)\n",
    "n_iterations = math.comb(len(itemsets_1), 2)\n",
    "itemsets_2 = []\n",
    "\n",
    "for id_1, id_2 in tqdm.tqdm(stock_combinations, desc=\"get itemset 2\", total=n_iterations):\n",
    "    if id_1 == id_2:\n",
    "        continue\n",
    "    \n",
    "    support = get_support(id_1, id_2, ibt_df)\n",
    "    if support > min_support:\n",
    "        itemsets_2.append([id_1, id_2])"
   ]
  },
  {
   "cell_type": "code",
   "execution_count": 14,
   "metadata": {},
   "outputs": [
    {
     "data": {
      "text/plain": [
       "(216,\n",
       " [['85123A', '84879'],\n",
       "  ['85123A', '82482'],\n",
       "  ['85123A', '82494L'],\n",
       "  ['85123A', '21733'],\n",
       "  ['85123A', '20725']])"
      ]
     },
     "execution_count": 14,
     "metadata": {},
     "output_type": "execute_result"
    }
   ],
   "source": [
    "len(itemsets_2), itemsets_2[:5]"
   ]
  },
  {
   "cell_type": "markdown",
   "metadata": {},
   "source": [
    "This algorithm is too slow for only 4070 items, predicted to finish in 37 mins for only getting 2-item itemsets.\n",
    "\n",
    "For association rule mining from a database, the [FP-growth algorithm](https://hands-on.cloud/implementation-of-fp-growth-algorithm-using-python) is an improved version of the [Apriori algorithm](https://analyticslog.com/blog/2020/8/13/apriori-algorithm-items-frequently-bought-together-a-basic-explanation-of-how-it-works) that can be used. This improves speed and computational cost vs the Apriori algorithm."
   ]
  },
  {
   "cell_type": "code",
   "execution_count": null,
   "metadata": {},
   "outputs": [],
   "source": []
  }
 ],
 "metadata": {
  "kernelspec": {
   "display_name": "recommender-systems-4J3U9Nch-py3.10",
   "language": "python",
   "name": "python3"
  },
  "language_info": {
   "codemirror_mode": {
    "name": "ipython",
    "version": 3
   },
   "file_extension": ".py",
   "mimetype": "text/x-python",
   "name": "python",
   "nbconvert_exporter": "python",
   "pygments_lexer": "ipython3",
   "version": "3.10.12"
  },
  "orig_nbformat": 4
 },
 "nbformat": 4,
 "nbformat_minor": 2
}
